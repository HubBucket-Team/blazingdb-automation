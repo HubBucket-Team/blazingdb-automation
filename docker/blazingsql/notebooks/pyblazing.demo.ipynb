{
 "cells": [
  {
   "cell_type": "code",
   "execution_count": null,
   "metadata": {},
   "outputs": [],
   "source": [
    "from blazingsql import BlazingContext\n",
    "import cudf\n",
    "\n",
    "bc = BlazingContext()\n",
    "\n",
    "# Read cvs\n",
    "gdf = cudf.read_csv('../data/Music.csv')\n",
    "\n",
    "# Create table\n",
    "bc.create_table('music', gdf)\n",
    "\n",
    "# Query\n",
    "result = bc.sql('SELECT * FROM main.music', ['music']).get()\n",
    "\n",
    "# Get GDF\n",
    "result_gdf = result.columns\n",
    "\n",
    "# Print GDF\n",
    "print(result_gdf)"
   ]
  },
  {
   "cell_type": "code",
   "execution_count": null,
   "metadata": {},
   "outputs": [],
   "source": [
    "import cudf\n",
    "from blazingsql import BlazingContext\n",
    "\n",
    "bc = BlazingContext()\n",
    "\n",
    "pyblazing.SetupOrchestratorConnection('127.0.0.1', 8889)\n",
    "\n",
    "column_names = ['n_nationkey', 'n_name', 'n_regionkey', 'n_comments']\n",
    "column_types = ['int32', 'int64', 'int32', 'int64']\n",
    "\n",
    "nation_gdf = cudf.read_csv(\"../data/nation.psv\", delimiter='|',\n",
    "                           dtype=column_types, names=column_names)\n",
    "\n",
    "print(nation_gdf)\n",
    "bc.create_table('nation', nation_gdf)\n",
    "\n",
    "query = 'select n_nationkey, n_regionkey, n_nationkey + n_regionkey as addition from main.nation'\n",
    "result_gdf = bc.sql(query).get()\n",
    "\n",
    "print(query)\n",
    "print(result_gdf)\n"
   ]
  },
  {
   "cell_type": "code",
   "execution_count": null,
   "metadata": {},
   "outputs": [],
   "source": [
    "import cudf\n",
    "from blazingsql import BlazingContext\n",
    "import pandas as pd\n",
    "\n",
    "bc = BlazingContext()\n",
    "\n",
    "pyblazing.SetupOrchestratorConnection('127.0.0.1', 8889)\n",
    "\n",
    "column_names = ['n_nationkey', 'n_name', 'n_regionkey', 'n_comments']\n",
    "column_types = {'n_nationkey': 'int32', 'n_regionkey': 'int64'}\n",
    "nation_df = pd.read_csv(\"../data/nation.psv\", delimiter='|',\n",
    "                        dtype=column_types, names=column_names)\n",
    "\n",
    "print(nation_df)\n",
    "\n",
    "bc.create_table('nation', nation_df)\n",
    "query = 'select n_nationkey, n_regionkey, n_nationkey + n_regionkey as addition from main.nation'\n",
    "result_gdf = bc.sql(query).get()\n",
    "\n",
    "print(query)\n",
    "print(result_gdf)\n"
   ]
  },
  {
   "cell_type": "code",
   "execution_count": null,
   "metadata": {},
   "outputs": [],
   "source": [
    "import cudf\n",
    "from blazingsql import BlazingContext\n",
    "import pyarrow as pa\n",
    "\n",
    "bc = BlazingContext()\n",
    "\n",
    "pyblazing.SetupOrchestratorConnection('127.0.0.1', 8889)\n",
    "\n",
    "arrow_table = pa.RecordBatchStreamReader('../data/gpu.arrow').read_all()\n",
    "df = arrow_table.to_pandas()\n",
    "df = df[['swings', 'tractions']]\n",
    "print(df)\n",
    "\n",
    "bc.create_table('gpu_info', df)\n",
    "\n",
    "query = 'select swings+1, tractions+10 from main.gpu_info'\n",
    "result_gdf = bc.sql(query).get()\n",
    "\n",
    "print(query)\n",
    "print(result_gdf)\n"
   ]
  }
 ],
 "metadata": {
  "kernelspec": {
   "display_name": "Python 3",
   "language": "python",
   "name": "python3"
  },
  "language_info": {
   "codemirror_mode": {
    "name": "ipython",
    "version": 3
   },
   "file_extension": ".py",
   "mimetype": "text/x-python",
   "name": "python",
   "nbconvert_exporter": "python",
   "pygments_lexer": "ipython3",
   "version": "3.7.3"
  }
 },
 "nbformat": 4,
 "nbformat_minor": 2
}
