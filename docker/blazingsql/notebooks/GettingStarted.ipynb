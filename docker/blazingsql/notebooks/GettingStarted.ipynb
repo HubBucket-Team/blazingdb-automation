{
 "cells": [
  {
   "cell_type": "markdown",
   "metadata": {
    "colab_type": "text",
    "id": "8AdUt3HiUrc3"
   },
   "source": [
    "# Get Started with Blazing SQL\n",
    "\n",
    "In this notebook, we will walk through the process for getting BlazingSQL and cuDF running. We will then demonstrate a basic ETL process and query a csv. \n",
    "\n",
    "\n",
    "Feel free to add your own code or modify ours as needed.\n",
    "\n",
    "\n",
    "Background Info:\n",
    "[BlazingSQL](http://blazingdb.com/#/)\n",
    "[RAPIDS AI/cuDF](https://rapids.ai/about.html)\n"
   ]
  },
  {
   "cell_type": "markdown",
   "metadata": {
    "colab_type": "text",
    "id": "aMwNKxePSwOp"
   },
   "source": [
    "# Import packages and create Blazing Context\n",
    "You can think of the BlazingContext much like a Spark Context. This is where information such as FileSystems you have registered, Tables you have created will be stored."
   ]
  },
  {
   "cell_type": "code",
   "execution_count": 1,
   "metadata": {
    "colab": {},
    "colab_type": "code",
    "id": "xU3CNhEZSNAr"
   },
   "outputs": [],
   "source": [
    "from blazingsql import BlazingContext\n",
    "import cudf\n",
    "\n",
    "bc = BlazingContext()"
   ]
  },
  {
   "cell_type": "markdown",
   "metadata": {
    "colab_type": "text",
    "id": "N2bqpDEnZyQf"
   },
   "source": [
    "# Read CSV\n",
    "\n",
    "Then we use cuDF to read the CSV file. This gives us a GPU DataFrame (GDF).\n",
    "\n",
    "To learn more about the GDF and how it enables end to end workloads on rapids, read [this](https://blog.blazingdb.com/blazingsql-part-1-the-gpu-dataframe-gdf-and-cudf-in-rapids-ai-96ec15102240)."
   ]
  },
  {
   "cell_type": "code",
   "execution_count": 2,
   "metadata": {
    "colab": {},
    "colab_type": "code",
    "id": "HhRhj-ZvZygH"
   },
   "outputs": [],
   "source": [
    "gdf = cudf.read_csv('/blazingdb/data/Music.csv')"
   ]
  },
  {
   "cell_type": "markdown",
   "metadata": {
    "colab_type": "text",
    "id": "HJFz-mqZTJ5Z"
   },
   "source": [
    "# Create a Table\n",
    "\n",
    "Now we just need to create a table. "
   ]
  },
  {
   "cell_type": "code",
   "execution_count": 3,
   "metadata": {
    "colab": {},
    "colab_type": "code",
    "id": "HJuvtJDYTMyb"
   },
   "outputs": [],
   "source": [
    "bc.create_table('music', gdf)"
   ]
  },
  {
   "cell_type": "markdown",
   "metadata": {
    "colab_type": "text",
    "id": "98HJFrt5TRa0"
   },
   "source": [
    "# Query a Table\n",
    "That's it! Now you can write a SQL query and the data will get processed on the GPU with BlazingSQL, and the output will be a GPU DataFrame (GDF) inside RAPIDS!"
   ]
  },
  {
   "cell_type": "code",
   "execution_count": 4,
   "metadata": {
    "colab": {
     "base_uri": "https://localhost:8080/",
     "height": 225
    },
    "colab_type": "code",
    "id": "14GwxmLsTV_p",
    "outputId": "4f280008-7957-4bd0-dd06-6f35a907688b"
   },
   "outputs": [
    {
     "name": "stdout",
     "output_type": "stream",
     "text": [
      "                         ARTIST  RATING    YEAR       LOCATION  FESTIVAL_SET\n",
      "0                  Arcade Fire    10.0  2018.0      Las Vegas           1.0\n",
      "1                      Justice    10.0  2018.0      Las Vegas           1.0\n",
      "2     Florence and The Machine    10.0  2018.0      Las Vegas           1.0\n",
      "3                       Odesza    10.0  2018.0          Indio           1.0\n",
      "4                     Bon Iver    10.0  2017.0          Indio           1.0\n",
      "5  LA Philharmonic + Sigur Ros    10.0  2017.0             LA           0.0\n",
      "6                    Sigur Ros    10.0  2014.0          Malmo           0.0\n",
      "7                  Arcade Fire    10.0  2014.0          Indio           1.0\n",
      "8                       Escort     9.0  2018.0  San Francisco           0.0\n",
      "9                      Phoenix     9.0  2018.0       Berkeley           0.0\n",
      "[336 more rows]\n"
     ]
    }
   ],
   "source": [
    "#Query\n",
    "result = bc.sql('SELECT * FROM main.music').get()\n",
    "\n",
    "#Get GDF\n",
    "result_gdf = result.columns\n",
    "\n",
    "#Print GDF\n",
    "print(result_gdf)"
   ]
  },
  {
   "cell_type": "markdown",
   "metadata": {
    "colab_type": "text",
    "id": "wygAeTIFTm2X"
   },
   "source": [
    "And... thats it! You are now live with BlazingSQL. Check out our [docs](https://docs.blazingdb.com) to get fancy as well as to learn more about how BlazingSQL works with the rest of [RAPIDS AI](https://rapids.ai/). "
   ]
  }
 ],
 "metadata": {
  "accelerator": "GPU",
  "colab": {
   "collapsed_sections": [],
   "name": "blazingsql_demo.ipynb",
   "provenance": [],
   "version": "0.3.2"
  },
  "kernelspec": {
   "display_name": "Python 3",
   "language": "python",
   "name": "python3"
  },
  "language_info": {
   "codemirror_mode": {
    "name": "ipython",
    "version": 3
   },
   "file_extension": ".py",
   "mimetype": "text/x-python",
   "name": "python",
   "nbconvert_exporter": "python",
   "pygments_lexer": "ipython3",
   "version": "3.7.3"
  }
 },
 "nbformat": 4,
 "nbformat_minor": 2
}
