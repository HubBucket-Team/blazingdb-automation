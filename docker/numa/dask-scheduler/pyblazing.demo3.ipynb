{
 "cells": [
  {
   "cell_type": "code",
   "execution_count": 10,
   "metadata": {},
   "outputs": [
    {
     "name": "stdout",
     "output_type": "stream",
     "text": [
      "*** Register a POSIX File System ***\n",
      "1\n",
      "result: 15000\n"
     ]
    }
   ],
   "source": [
    "import cudf\n",
    "import pyblazing\n",
    "from pyblazing import DriverType, FileSystemType, EncryptionType\n",
    "from pyblazing import SchemaFrom\n",
    "\n",
    "import time\n",
    "\n",
    "from dask.distributed import Client\n",
    "\n",
    "\n",
    "dir_path = '/blazingdb/data/tpch/'\n",
    "chunk_files = ['customer_0_0.parquet', 'customer_0_1.parquet']\n",
    "\n",
    "def run_query(index):\n",
    "    print(\"run_query index:\", index)\n",
    "    print(\"load_data:\", dir_path + chunk_files[index])\n",
    "    customer_table = pyblazing.create_table(table_name='customer_parquet', type=SchemaFrom.ParquetFile, path= dir_path + chunk_files[index])\n",
    "    nation_table = pyblazing.create_table(table_name='nation_parquet', type=SchemaFrom.ParquetFile, path= dir_path + '/nation_0_0.parquet')\n",
    "    tables = {'customer_parquet': customer_table.columns, 'nation_parquet': nation_table.columns}\n",
    "\n",
    "    sql = '''\n",
    "        select avg(c.c_custkey), avg(c.c_nationkey), n.n_regionkey\n",
    "        from main.customer_parquet as c\n",
    "        inner join main.nation_parquet as n\n",
    "        on c.c_nationkey = n.n_nationkey\n",
    "        group by n.n_regionkey\n",
    "    '''\n",
    "\n",
    "    result_gdf = pyblazing.run_query(sql, tables)\n",
    "    print(\"result_gdf\", result_gdf)\n",
    "    tamanio = len(result_gdf.columns)\n",
    "    print(\"tamanio:\", tamanio)\n",
    "    with open('/tmp/salida'+str(index)+'.txt', 'w') as file:\n",
    "        file.write(str(tamanio))\n",
    "    #time.sleep(3)\n",
    "    return tamanio\n",
    "\n",
    "\n",
    "print('*** Register a POSIX File System ***')\n",
    "fs_status = pyblazing.register_file_system(\n",
    "    authority=\"tpch\",\n",
    "    type=FileSystemType.POSIX,\n",
    "    root=\"/\"\n",
    ")\n",
    "print(fs_status)\n",
    "\n",
    "chunk_ids = [0, 1]\n",
    "workers_ips = ['172.18.0.23', '172.18.0.24']\n",
    "\n",
    "client = Client('127.0.0.1:8786')\n",
    "results = client.map(run_query, chunk_ids, workers=workers_ips)\n",
    "\n",
    "total = client.submit(sum, results)\n",
    "print(\"result:\", total.result())\n",
    "del client"
   ]
  },
  {
   "cell_type": "code",
   "execution_count": null,
   "metadata": {},
   "outputs": [],
   "source": []
  }
 ],
 "metadata": {
  "kernelspec": {
   "display_name": "Python 3",
   "language": "python",
   "name": "python3"
  },
  "language_info": {
   "codemirror_mode": {
    "name": "ipython",
    "version": 3
   },
   "file_extension": ".py",
   "mimetype": "text/x-python",
   "name": "python",
   "nbconvert_exporter": "python",
   "pygments_lexer": "ipython3",
   "version": "3.5.6"
  }
 },
 "nbformat": 4,
 "nbformat_minor": 2
}
